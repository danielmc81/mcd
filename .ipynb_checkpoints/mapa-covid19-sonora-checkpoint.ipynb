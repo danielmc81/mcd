{
 "cells": [
  {
   "cell_type": "code",
   "execution_count": 1,
   "id": "focal-analysis",
   "metadata": {
    "scrolled": false
   },
   "outputs": [],
   "source": [
    "from ipyleaflet import Map, Heatmap, FullScreenControl\n",
    "from random import uniform\n",
    "import numpy as np\n",
    "import pandas as pd\n",
    "import unicodedata\n",
    "from unidecode import unidecode\n",
    "import os\n",
    "\n",
    "m = Map(center=(29, -111), zoom=7, scroll_wheel_zoom=True)\n",
    "m.add_control(FullScreenControl())\n",
    "m.layout.width='100%'\n",
    "m.layout.height='800px'\n"
   ]
  },
  {
   "cell_type": "code",
   "execution_count": 4,
   "id": "classified-cemetery",
   "metadata": {},
   "outputs": [],
   "source": [
    "def elimina_acentos(cadena):\n",
    "    s = ''.join((c for c in unicodedata.normalize('NFD',cadena) if unicodedata.category(c) != 'Mn'))\n",
    "    return s"
   ]
  },
  {
   "cell_type": "markdown",
   "id": "norwegian-physics",
   "metadata": {},
   "source": [
    "# Defunciones por COVID-19 en Sonora al día de hoy \"`r format(Sys.time(), '%d %B, %Y')`\""
   ]
  },
  {
   "cell_type": "code",
   "execution_count": 3,
   "id": "common-surface",
   "metadata": {},
   "outputs": [
    {
     "ename": "FileNotFoundError",
     "evalue": "[Errno 2] No such file or directory: 'nombre_municipios_sonora.dat'",
     "output_type": "error",
     "traceback": [
      "\u001b[0;31m---------------------------------------------------------------------------\u001b[0m",
      "\u001b[0;31mFileNotFoundError\u001b[0m                         Traceback (most recent call last)",
      "\u001b[0;32m<ipython-input-3-e7b8142f4a72>\u001b[0m in \u001b[0;36m<module>\u001b[0;34m\u001b[0m\n\u001b[1;32m      1\u001b[0m \u001b[0;31m#Archivo que contiene el nombre de los municipios de Sonora\u001b[0m\u001b[0;34m\u001b[0m\u001b[0;34m\u001b[0m\u001b[0;34m\u001b[0m\u001b[0m\n\u001b[0;32m----> 2\u001b[0;31m \u001b[0mfile_nm\u001b[0m \u001b[0;34m=\u001b[0m \u001b[0mopen\u001b[0m\u001b[0;34m(\u001b[0m\u001b[0;34m'nombre_municipios_sonora.dat'\u001b[0m\u001b[0;34m,\u001b[0m \u001b[0;34m'r'\u001b[0m\u001b[0;34m)\u001b[0m\u001b[0;34m\u001b[0m\u001b[0;34m\u001b[0m\u001b[0m\n\u001b[0m\u001b[1;32m      3\u001b[0m \u001b[0mnm\u001b[0m \u001b[0;34m=\u001b[0m \u001b[0;34m[\u001b[0m\u001b[0mline\u001b[0m\u001b[0;34m.\u001b[0m\u001b[0mrstrip\u001b[0m\u001b[0;34m(\u001b[0m\u001b[0;34m)\u001b[0m \u001b[0;32mfor\u001b[0m \u001b[0mline\u001b[0m \u001b[0;32min\u001b[0m \u001b[0mfile_nm\u001b[0m\u001b[0;34m.\u001b[0m\u001b[0mreadlines\u001b[0m\u001b[0;34m(\u001b[0m\u001b[0;34m)\u001b[0m\u001b[0;34m]\u001b[0m\u001b[0;34m\u001b[0m\u001b[0;34m\u001b[0m\u001b[0m\n\u001b[1;32m      4\u001b[0m \u001b[0;34m\u001b[0m\u001b[0m\n\u001b[1;32m      5\u001b[0m \u001b[0;31m#Las coordenadas se obtienen de datos del INEGI 2021\u001b[0m\u001b[0;34m\u001b[0m\u001b[0;34m\u001b[0m\u001b[0;34m\u001b[0m\u001b[0m\n",
      "\u001b[0;31mFileNotFoundError\u001b[0m: [Errno 2] No such file or directory: 'nombre_municipios_sonora.dat'"
     ]
    }
   ],
   "source": [
    "#Archivo que contiene el nombre de los municipios de Sonora\n",
    "file_nm = open('nombre_municipios_sonora.dat', 'r')\n",
    "nm = [line.rstrip() for line in file_nm.readlines()]\n",
    "\n",
    "#Las coordenadas se obtienen de datos del INEGI 2021\n",
    "df_latlon = pd.read_csv('inegi_sonora_lat_lon.csv')\n",
    "# print(df_latlon)\n",
    "\n",
    "#Archivo que contiene el ID de los municipios de Sonora\n",
    "catalogo = pd.read_excel('catalogos.xlsx',engine='openpyxl', sheet_name=\"Catálogo MUNICIPIOS\")\n",
    "catalogo.to_csv('catalogos.csv', encoding='utf-8')\n",
    "df_catalogo = pd.read_csv('catalogos.csv', usecols=[\"CLAVE_MUNICIPIO\",\"MUNICIPIO\",\"CLAVE_ENTIDAD\"])\n",
    "df_catalogo[\"MUNICIPIO\"] = df_catalogo[\"MUNICIPIO\"].apply(unidecode)\n",
    "catalogo_sonora = df_catalogo.loc[df_catalogo[\"CLAVE_ENTIDAD\"]==26]\n",
    "# print(catalogo_sonora)\n",
    "    \n",
    "#Archivo que contiene los casos COVID-19 en Sonora\n",
    "df = pd.read_csv('municipios_sonora.csv', usecols=[\"MUNICIPIO_RES\",\"FECHA_DEF\"])\n",
    "# print(df)\n",
    "\n",
    "locations=[]\n",
    "for mun in nm:\n",
    "    salida = df_latlon.loc[df_latlon[\"Nom_Mun\"]==mun]\n",
    "    lat = salida.iloc[0][3]\n",
    "    lon = salida.iloc[0][4]\n",
    "    mun_may = np.char.upper(mun)    \n",
    "    mun_norm = elimina_acentos(str(mun_may)) \n",
    "    id_mun = catalogo_sonora.loc[catalogo_sonora[\"MUNICIPIO\"]==mun_norm]\n",
    "    id_mun = id_mun.iloc[0][0]\n",
    "    defunciones = len(df.loc[(df[\"MUNICIPIO_RES\"]==id_mun) & (df[\"FECHA_DEF\"] < \"9999-99-99\")])\n",
    "#     print(\"Ciudad: \", mun_norm)\n",
    "#     print(\"Latitud: \", lat)\n",
    "#     print(\"Longitud: \", lon)\n",
    "#     print(\"Defunciones: \", defunciones)\n",
    "    locations.append([lat,lon,defunciones])\n",
    "\n",
    "heatmap = Heatmap(locations=locations, radius=20)\n",
    "\n",
    "m.add_layer(heatmap);\n",
    "m"
   ]
  },
  {
   "cell_type": "code",
   "execution_count": null,
   "id": "nonprofit-framing",
   "metadata": {},
   "outputs": [],
   "source": []
  }
 ],
 "metadata": {
  "kernelspec": {
   "display_name": "Python 3",
   "language": "python",
   "name": "python3"
  },
  "language_info": {
   "codemirror_mode": {
    "name": "ipython",
    "version": 3
   },
   "file_extension": ".py",
   "mimetype": "text/x-python",
   "name": "python",
   "nbconvert_exporter": "python",
   "pygments_lexer": "ipython3",
   "version": "3.8.5"
  }
 },
 "nbformat": 4,
 "nbformat_minor": 5
}
