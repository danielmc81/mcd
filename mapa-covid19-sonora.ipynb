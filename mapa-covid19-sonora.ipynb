{
 "cells": [
  {
   "cell_type": "code",
   "execution_count": 506,
   "id": "focal-analysis",
   "metadata": {
    "scrolled": false
   },
   "outputs": [],
   "source": [
    "from ipyleaflet import Map, Heatmap, FullScreenControl\n",
    "from random import uniform\n",
    "import numpy as np\n",
    "import pandas as pd\n",
    "import unicodedata\n",
    "from unidecode import unidecode\n",
    "import os\n",
    "\n",
    "m = Map(center=(29, -111), zoom=7, scroll_wheel_zoom=True)\n",
    "m.add_control(FullScreenControl())\n",
    "m.layout.width='100%'\n",
    "m.layout.height='800px'\n"
   ]
  },
  {
   "cell_type": "code",
   "execution_count": 507,
   "id": "classified-cemetery",
   "metadata": {},
   "outputs": [],
   "source": [
    "def elimina_acentos(cadena):\n",
    "    s = ''.join((c for c in unicodedata.normalize('NFD',cadena) if unicodedata.category(c) != 'Mn'))\n",
    "    return s"
   ]
  },
  {
   "cell_type": "markdown",
   "id": "norwegian-physics",
   "metadata": {},
   "source": [
    "# Defunciones por COVID-19 en Sonora al día de hoy"
   ]
  },
  {
   "cell_type": "code",
   "execution_count": 508,
   "id": "common-surface",
   "metadata": {},
   "outputs": [
    {
     "data": {
      "application/vnd.jupyter.widget-view+json": {
       "model_id": "107c2dcf0ce249d2aca92ac1475dc49b",
       "version_major": 2,
       "version_minor": 0
      },
      "text/plain": [
       "Map(center=[29, -111], controls=(ZoomControl(options=['position', 'zoom_in_text', 'zoom_in_title', 'zoom_out_t…"
      ]
     },
     "metadata": {},
     "output_type": "display_data"
    }
   ],
   "source": [
    "#Archivo que contiene el nombre de los municipios de Sonora\n",
    "file_nm = open('nombre_municipios_sonora.dat', 'r')\n",
    "nm = [line.rstrip() for line in file_nm.readlines()]\n",
    "\n",
    "#Las coordenadas se obtienen de datos del INEGI 2021\n",
    "df_latlon = pd.read_csv('inegi_sonora_lat_lon.csv')\n",
    "# print(df_latlon)\n",
    "\n",
    "#Archivo que contiene el ID de los municipios de Sonora\n",
    "catalogo = pd.read_excel('catalogos.xlsx',engine='openpyxl', sheet_name=\"Catálogo MUNICIPIOS\")\n",
    "catalogo.to_csv('catalogos.csv', encoding='utf-8')\n",
    "df_catalogo = pd.read_csv('catalogos.csv', usecols=[\"CLAVE_MUNICIPIO\",\"MUNICIPIO\",\"CLAVE_ENTIDAD\"])\n",
    "df_catalogo[\"MUNICIPIO\"] = df_catalogo[\"MUNICIPIO\"].apply(unidecode)\n",
    "catalogo_sonora = df_catalogo.loc[df_catalogo[\"CLAVE_ENTIDAD\"]==26]\n",
    "# print(catalogo_sonora)\n",
    "    \n",
    "#Archivo que contiene los casos COVID-19 en Sonora\n",
    "df = pd.read_csv('municipios_sonora.csv', usecols=[\"MUNICIPIO_RES\",\"FECHA_DEF\"])\n",
    "# print(df)\n",
    "\n",
    "locations=[]\n",
    "for mun in nm:\n",
    "    salida = df_latlon.loc[df_latlon[\"Nom_Mun\"]==mun]\n",
    "    lat = salida.iloc[0][3]\n",
    "    lon = salida.iloc[0][4]\n",
    "    mun_may = np.char.upper(mun)    \n",
    "    mun_norm = elimina_acentos(str(mun_may)) \n",
    "    id_mun = catalogo_sonora.loc[catalogo_sonora[\"MUNICIPIO\"]==mun_norm]\n",
    "    id_mun = id_mun.iloc[0][0]\n",
    "    defunciones = len(df.loc[(df[\"MUNICIPIO_RES\"]==id_mun) & (df[\"FECHA_DEF\"] < \"9999-99-99\")])\n",
    "#     print(\"Ciudad: \", mun_norm)\n",
    "#     print(\"Latitud: \", lat)\n",
    "#     print(\"Longitud: \", lon)\n",
    "#     print(\"Defunciones: \", defunciones)\n",
    "    locations.append([lat,lon,defunciones])\n",
    "\n",
    "heatmap = Heatmap(locations=locations, radius=20)\n",
    "\n",
    "m.add_layer(heatmap);\n",
    "m"
   ]
  },
  {
   "cell_type": "code",
   "execution_count": null,
   "id": "nonprofit-framing",
   "metadata": {},
   "outputs": [],
   "source": []
  }
 ],
 "metadata": {
  "kernelspec": {
   "display_name": "Python 3",
   "language": "python",
   "name": "python3"
  },
  "language_info": {
   "codemirror_mode": {
    "name": "ipython",
    "version": 3
   },
   "file_extension": ".py",
   "mimetype": "text/x-python",
   "name": "python",
   "nbconvert_exporter": "python",
   "pygments_lexer": "ipython3",
   "version": "3.8.5"
  }
 },
 "nbformat": 4,
 "nbformat_minor": 5
}
